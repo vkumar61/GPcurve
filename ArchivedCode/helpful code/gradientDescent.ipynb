{
 "cells": [
  {
   "cell_type": "code",
   "execution_count": 2,
   "metadata": {},
   "outputs": [],
   "source": [
    "import numpy as np\n",
    "import numba as nb\n",
    "import pickle as pkl\n",
    "import h5py"
   ]
  },
  {
   "cell_type": "code",
   "execution_count": 3,
   "metadata": {},
   "outputs": [],
   "source": [
    "file = open(\"C:/Users/vkuma/Research/200 4084.5799477079127 2380.1035500000003variables.pkl\", \"rb\")\n",
    "variables = pkl.load(file)\n",
    "file = open(\"C:/Users/vkuma/Research/200 4084.5799477079127 2380.1035500000003data.pkl\", \"rb\")\n",
    "data = pkl.load(file)\n",
    "\n",
    "file = \"C:/Users/vkuma/Research/200(4084.5799477079127 2380.1035500000003).h5\"\n",
    "f = h5py.File(file, 'r')\n",
    "dVect= f['samples'][()]\n",
    "pVect = f['prob'][()]"
   ]
  },
  {
   "cell_type": "code",
   "execution_count": 13,
   "metadata": {},
   "outputs": [],
   "source": [
    "#@nb.jit(nopython=True)\n",
    "def gradient_descent(inducing_points, cDataIndu, priorMean, cInduInduInv, samples, means, deltaT, learning_rate=0.01, num_iterations=100):\n",
    "    \"\"\"\n",
    "    Performs gradient descent to find the maximum of a function.\n",
    "\n",
    "    Args:\n",
    "        posterior (function): The posterior function to maximize.\n",
    "        inducing_points (ndarray): The initial inducing points.\n",
    "        learning_rate (float, optional): The learning rate for gradient descent. Defaults to 0.01.\n",
    "        num_iterations (int, optional): The number of iterations for gradient descent. Defaults to 100.\n",
    "\n",
    "    Returns:\n",
    "        ndarray: The updated inducing points.\n",
    "    \"\"\"\n",
    "    def posterior(dIndu_):\n",
    "            dData_ = cDataIndu @ dIndu_\n",
    "            # Prior\n",
    "            diff = dIndu_ - priorMean\n",
    "            prior = -0.5*(diff.T @ (cInduInduInv @ diff))\n",
    "            \n",
    "            #Likelihood of that data\n",
    "            lhood = 0\n",
    "            for i in range(samples.shape[0]):\n",
    "                for j in range(samples.shape[1]):\n",
    "                    lhood += (\n",
    "                        -.5 * (samples[i, j] - means[i, j])**2 / (2*dData_[i]*deltaT)\n",
    "                        -.5 * np.log(2*np.pi*2*dData_[i]*deltaT)\n",
    "                    )\n",
    "            prob = lhood + prior\n",
    "\n",
    "            return prob\n",
    "    num_points = inducing_points.shape[0]\n",
    "\n",
    "    for _ in range(num_iterations):\n",
    "        gradients = np.zeros_like(inducing_points)\n",
    "        diff = np.zeros_like(inducing_points)\n",
    "        posterior_value = posterior(inducing_points)\n",
    "\n",
    "        # Compute the gradient for each inducing point\n",
    "        for i in range(num_points):\n",
    "            diff[i] = inducing_points[i]*0.01\n",
    "            gradients[i] = (posterior(diff) - posterior_value)\n",
    "\n",
    "        # Update the inducing points using the gradients\n",
    "        inducing_points += learning_rate * gradients\n",
    "\n",
    "    return inducing_points"
   ]
  },
  {
   "cell_type": "code",
   "execution_count": 14,
   "metadata": {},
   "outputs": [
    {
     "name": "stderr",
     "output_type": "stream",
     "text": [
      "C:\\Users\\vkuma\\AppData\\Local\\Temp\\ipykernel_15512\\920764669.py:27: RuntimeWarning: invalid value encountered in log\n",
      "  -.5 * np.log(2*np.pi*2*dData_[i]*deltaT)\n"
     ]
    },
    {
     "ename": "KeyboardInterrupt",
     "evalue": "",
     "output_type": "error",
     "traceback": [
      "\u001b[1;31m---------------------------------------------------------------------------\u001b[0m",
      "\u001b[1;31mKeyboardInterrupt\u001b[0m                         Traceback (most recent call last)",
      "Cell \u001b[1;32mIn[14], line 12\u001b[0m\n\u001b[0;32m      8\u001b[0m deltaT \u001b[39m=\u001b[39m data\u001b[39m.\u001b[39mdeltaT\n\u001b[0;32m     11\u001b[0m \u001b[39m# Call gradient_descent function\u001b[39;00m\n\u001b[1;32m---> 12\u001b[0m updated_points \u001b[39m=\u001b[39m gradient_descent(initial_points, cDataIndu, priorMean, cInduInduInv, samples, means, deltaT, learning_rate\u001b[39m=\u001b[39;49m\u001b[39m0.1\u001b[39;49m, num_iterations\u001b[39m=\u001b[39;49m\u001b[39m1\u001b[39;49m)\n\u001b[0;32m     14\u001b[0m \u001b[39mprint\u001b[39m(\u001b[39m\"\u001b[39m\u001b[39mInitial inducing points:\u001b[39m\u001b[39m\"\u001b[39m)\n\u001b[0;32m     15\u001b[0m \u001b[39mprint\u001b[39m(initial_points)\n",
      "Cell \u001b[1;32mIn[13], line 42\u001b[0m, in \u001b[0;36mgradient_descent\u001b[1;34m(inducing_points, cDataIndu, priorMean, cInduInduInv, samples, means, deltaT, learning_rate, num_iterations)\u001b[0m\n\u001b[0;32m     40\u001b[0m \u001b[39mfor\u001b[39;00m i \u001b[39min\u001b[39;00m \u001b[39mrange\u001b[39m(num_points):\n\u001b[0;32m     41\u001b[0m     diff[i] \u001b[39m=\u001b[39m inducing_points[i]\u001b[39m*\u001b[39m\u001b[39m0.01\u001b[39m\n\u001b[1;32m---> 42\u001b[0m     gradients[i] \u001b[39m=\u001b[39m (posterior(diff) \u001b[39m-\u001b[39m posterior_value)\n\u001b[0;32m     44\u001b[0m \u001b[39m# Update the inducing points using the gradients\u001b[39;00m\n\u001b[0;32m     45\u001b[0m inducing_points \u001b[39m+\u001b[39m\u001b[39m=\u001b[39m learning_rate \u001b[39m*\u001b[39m gradients\n",
      "Cell \u001b[1;32mIn[13], line 25\u001b[0m, in \u001b[0;36mgradient_descent.<locals>.posterior\u001b[1;34m(dIndu_)\u001b[0m\n\u001b[0;32m     23\u001b[0m \u001b[39mfor\u001b[39;00m i \u001b[39min\u001b[39;00m \u001b[39mrange\u001b[39m(samples\u001b[39m.\u001b[39mshape[\u001b[39m0\u001b[39m]):\n\u001b[0;32m     24\u001b[0m     \u001b[39mfor\u001b[39;00m j \u001b[39min\u001b[39;00m \u001b[39mrange\u001b[39m(samples\u001b[39m.\u001b[39mshape[\u001b[39m1\u001b[39m]):\n\u001b[1;32m---> 25\u001b[0m         lhood \u001b[39m+\u001b[39m\u001b[39m=\u001b[39m (\n\u001b[0;32m     26\u001b[0m             \u001b[39m-\u001b[39m\u001b[39m.5\u001b[39m \u001b[39m*\u001b[39m (samples[i, j] \u001b[39m-\u001b[39m means[i, j])\u001b[39m*\u001b[39m\u001b[39m*\u001b[39m\u001b[39m2\u001b[39m \u001b[39m/\u001b[39m (\u001b[39m2\u001b[39m\u001b[39m*\u001b[39mdData_[i]\u001b[39m*\u001b[39mdeltaT)\n\u001b[0;32m     27\u001b[0m             \u001b[39m-\u001b[39m\u001b[39m.5\u001b[39m \u001b[39m*\u001b[39m np\u001b[39m.\u001b[39mlog(\u001b[39m2\u001b[39m\u001b[39m*\u001b[39mnp\u001b[39m.\u001b[39mpi\u001b[39m*\u001b[39m\u001b[39m2\u001b[39m\u001b[39m*\u001b[39mdData_[i]\u001b[39m*\u001b[39mdeltaT)\n\u001b[0;32m     28\u001b[0m         )\n\u001b[0;32m     29\u001b[0m prob \u001b[39m=\u001b[39m lhood \u001b[39m+\u001b[39m prior\n\u001b[0;32m     31\u001b[0m \u001b[39mreturn\u001b[39;00m prob\n",
      "\u001b[1;31mKeyboardInterrupt\u001b[0m: "
     ]
    }
   ],
   "source": [
    "# Initial inducing points\n",
    "initial_points = variables.priorMean\n",
    "cDataIndu = variables.cDataIndu\n",
    "priorMean = variables.priorMean\n",
    "cInduInduInv = variables.cInduInduInv\n",
    "samples = variables.sampleCoordinates\n",
    "means = variables.dataCoordinates\n",
    "deltaT = data.deltaT\n",
    "\n",
    "\n",
    "# Call gradient_descent function\n",
    "updated_points = gradient_descent(initial_points, cDataIndu, priorMean, cInduInduInv, samples, means, deltaT, learning_rate=0.1, num_iterations=1)\n",
    "\n",
    "print(\"Initial inducing points:\")\n",
    "print(initial_points)\n",
    "print(\"Updated inducing points:\")\n",
    "print(updated_points)"
   ]
  }
 ],
 "metadata": {
  "kernelspec": {
   "display_name": "Python 3",
   "language": "python",
   "name": "python3"
  },
  "language_info": {
   "codemirror_mode": {
    "name": "ipython",
    "version": 3
   },
   "file_extension": ".py",
   "mimetype": "text/x-python",
   "name": "python",
   "nbconvert_exporter": "python",
   "pygments_lexer": "ipython3",
   "version": "3.11.4"
  },
  "orig_nbformat": 4
 },
 "nbformat": 4,
 "nbformat_minor": 2
}
