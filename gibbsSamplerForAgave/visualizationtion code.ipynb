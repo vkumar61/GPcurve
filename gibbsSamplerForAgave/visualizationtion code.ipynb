{
 "cells": [
  {
   "cell_type": "code",
   "execution_count": null,
   "metadata": {
    "dotnet_interactive": {
     "language": "csharp"
    },
    "polyglot_notebook": {
     "kernelName": "csharp"
    },
    "vscode": {
     "languageId": "polyglot-notebook"
    }
   },
   "outputs": [],
   "source": [
    "import csv\n",
    "import numpy as np\n",
    "import matplotlib.pyplot as plt\n",
    "import functions\n",
    "import objects\n",
    "from types import SimpleNamespace\n",
    "#import syntheticData\n",
    "from matplotlib import cm\n",
    "import ast\n",
    "import pickle\n",
    "import matplotlib"
   ]
  },
  {
   "cell_type": "code",
   "execution_count": null,
   "metadata": {
    "vscode": {
     "languageId": "polyglot-notebook"
    }
   },
   "outputs": [],
   "source": [
    "'''\n",
    "def diffusion(point):\n",
    "    xterm1 = np.exp(-((point[0]-10)**2)/500)\n",
    "    yterm1 = np.exp(-((point[1]-10)**2)/500)\n",
    "    xterm2 = np.exp(-((point[0]+19)**2)/200)\n",
    "    yterm2 = np.exp(-((point[1]+19)**2)/200)\n",
    "    value = np.abs(3 + 17.5*xterm1*yterm1 + 8*xterm2*yterm2)\n",
    "    return value'''"
   ]
  },
  {
   "cell_type": "code",
   "execution_count": null,
   "metadata": {
    "vscode": {
     "languageId": "polyglot-notebook"
    }
   },
   "outputs": [],
   "source": [
    "file = open(\"C:/Users/vkuma/Downloads/job11/250000 1 40variables.pkl\", \"rb\")\n",
    "variables = pickle.load(file)\n",
    "file = open(\"C:/Users/vkuma/Downloads/job11/250000 1 40data.pkl\", \"rb\")\n",
    "data = pickle.load(file)\n",
    "variables.dInduPrior"
   ]
  },
  {
   "cell_type": "code",
   "execution_count": null,
   "metadata": {
    "vscode": {
     "languageId": "polyglot-notebook"
    }
   },
   "outputs": [],
   "source": [
    "'''\n",
    "#read datafile\n",
    "file = open(\"C:/Users/vkuma/Research/LearningDiffusionMaps/LargeDatasets/syntheticData/test2/syntheticData.csv\")\n",
    "fullArray = np.loadtxt(file,delimiter = \",\")\n",
    "\n",
    "#coordinates for trajectories\n",
    "x = fullArray[:,1]\n",
    "y = fullArray[:,2]\n",
    "# Initialize variables\n",
    "data = SimpleNamespace(**objects.DATA)\n",
    "data.trajectoriesIndex = fullArray[:,0]\n",
    "data.trajectories = np.vstack((x,y)).T\n",
    "data.deltaT = 1\n",
    "data.nData = len(data.trajectoriesIndex)\n",
    "data.nTrajectories = np.unique(data.trajectoriesIndex)\n",
    "\n",
    "variables = functions.initialization(objects.PARAMETERS, data, 1, 10)\n",
    "pVect = []\n",
    "with open('C:/Users/vkuma/Research/LearningDiffusionMaps/LargeDatasets/syntheticData/test2/300000probability(1 10).csv') as file_obj:\n",
    "      \n",
    "    # Create reader object by passing the file \n",
    "    # object to reader method\n",
    "    reader_obj = csv.reader(file_obj)\n",
    "      \n",
    "    # Iterate over each row in the csv \n",
    "    # file using reader object\n",
    "    for row in reader_obj:\n",
    "        pVect.append(float(row[0]))\n",
    "\n",
    "file = open('C:/Users/vkuma/Research/LearningDiffusionMaps/LargeDatasets/syntheticData/test2/300000samples(1 10).csv')\n",
    "dVect = np.loadtxt(file,delimiter = \",\")\n",
    "'''"
   ]
  },
  {
   "cell_type": "code",
   "execution_count": null,
   "metadata": {
    "vscode": {
     "languageId": "polyglot-notebook"
    }
   },
   "outputs": [],
   "source": [
    "pVect = []\n",
    "with open(\"C:/Users/vkuma/Downloads/job11/250000probability(1 40).csv\") as file_obj:\n",
    "      \n",
    "    # Create reader object by passing the file \n",
    "    # object to reader method\n",
    "    reader_obj = csv.reader(file_obj)\n",
    "      \n",
    "    # Iterate over each row in the csv \n",
    "    # file using reader object\n",
    "    for row in reader_obj:\n",
    "        pVect.append(float(row[0]))\n",
    "\n",
    "file = open(\"C:/Users/vkuma/Downloads/job11/250000samples(1 40).csv\")\n",
    "dVect = np.loadtxt(file,delimiter = \",\")\n",
    "np.shape(dVect)"
   ]
  },
  {
   "cell_type": "code",
   "execution_count": null,
   "metadata": {
    "vscode": {
     "languageId": "polyglot-notebook"
    }
   },
   "outputs": [],
   "source": [
    "#plot6 = syntheticData.plotThreeD(variables, dVect, data)\n",
    "plot1 = functions.plots(variables, dVect, pVect, data)\n",
    "plot2 = functions.probPlot(pVect)\n",
    "plot4 = functions.meanPlot(variables, dVect, data)\n"
   ]
  },
  {
   "cell_type": "code",
   "execution_count": null,
   "metadata": {
    "vscode": {
     "languageId": "polyglot-notebook"
    }
   },
   "outputs": [],
   "source": [
    "#generate plot\n",
    "fig, ax = plt.subplots(1, 1)\n",
    "plt.plot(pVect)\n",
    "plt.title(\"Probability per Sample\")\n",
    "plt.xlabel(\"Iteration/Sample\")\n",
    "plt.ylabel(\"Log Probability\")\n",
    "plt.ticklabel_format(useMathText=True)\n",
    "from matplotlib import ticker\n",
    "formatter = ticker.ScalarFormatter(useMathText=True)\n",
    "formatter.set_scientific(True) \n",
    "formatter.set_powerlimits((-1,1)) \n",
    "ax.yaxis.set_major_formatter(formatter)\n",
    "class ScalarFormatterClass(ticker.ScalarFormatter):\n",
    "   def _set_format(self):\n",
    "      self.format = \"%1.3f\"\n",
    "yScalarFormatter = ScalarFormatterClass(useMathText=True)\n",
    "yScalarFormatter.set_powerlimits((0,0))\n",
    "ax.yaxis.set_major_formatter(yScalarFormatter)\n",
    "ax.set_aspect(1.0/ax.get_data_ratio(), adjustable='box')"
   ]
  },
  {
   "cell_type": "code",
   "execution_count": null,
   "metadata": {
    "vscode": {
     "languageId": "polyglot-notebook"
    }
   },
   "outputs": [],
   "source": [
    "from matplotlib import ticker"
   ]
  },
  {
   "cell_type": "code",
   "execution_count": null,
   "metadata": {
    "vscode": {
     "languageId": "polyglot-notebook"
    }
   },
   "outputs": [],
   "source": [
    "#necassary variables\n",
    "nFineX = variables.nFineX\n",
    "nFineY = variables.nFineY\n",
    "cInduFine = variables.cInduFine\n",
    "cInduInduInv = variables.cInduInduInv\n",
    "fineCoordinates = variables.fineCoordinates\n",
    "trajectories = data.trajectories\n",
    "\n",
    "#shape for plot\n",
    "shape = (nFineX, nFineY)\n",
    "\n",
    "#take mean of all samples\n",
    "unshapedMap = cInduFine.T @ cInduInduInv @ np.mean(dVect, 0)\n",
    "\n",
    "#reshape variables to make plotting easy\n",
    "shapedMap = np.reshape(unshapedMap, shape)\n",
    "shapedX = np.reshape(fineCoordinates[:,0], shape)\n",
    "shapedY = np.reshape(fineCoordinates[:,1], shape)\n",
    "\n",
    "#generate contour plot\n",
    "fig = plt.figure()\n",
    "mapPlot = plt.contour(shapedX, shapedY, shapedMap, levels = [0, 1,2,3,4,5,6,7,8,9,10], cmap = cm.autumn)\n",
    "plt.clabel(mapPlot, inline=1, fontsize=10)\n",
    "plt.scatter(trajectories[:,0], trajectories[:,1], alpha = 0.01, c = \"black\")"
   ]
  },
  {
   "cell_type": "code",
   "execution_count": null,
   "metadata": {
    "vscode": {
     "languageId": "polyglot-notebook"
    }
   },
   "outputs": [],
   "source": [
    "#necassary variables\n",
    "nFineX = variables.nFineX\n",
    "nFineY = variables.nFineY\n",
    "cInduFine = variables.cInduFine\n",
    "cInduInduInv = variables.cInduInduInv\n",
    "fineCoordinates = variables.fineCoordinates\n",
    "trajectories = data.trajectories\n",
    "\n",
    "#shape for plot\n",
    "shape = (nFineX, nFineY)\n",
    "\n",
    "#take mean of all samples\n",
    "unshapedMap = diffusion(fineCoordinates.T)\n",
    "\n",
    "#reshape variables to make plotting easy\n",
    "shapedMap = np.reshape(unshapedMap, shape)\n",
    "shapedX = np.reshape(fineCoordinates[:,0], shape)\n",
    "shapedY = np.reshape(fineCoordinates[:,1], shape)\n",
    "\n",
    "#generate contour plot\n",
    "fig = plt.figure()\n",
    "mapPlot = plt.contour(shapedX, shapedY, shapedMap, levels = 15, cmap = cm.autumn)\n",
    "plt.clabel(mapPlot, inline=1, fontsize=10)\n",
    "plt.scatter(trajectories[:,0], trajectories[:,1], alpha = 0.01, c = \"black\")"
   ]
  },
  {
   "cell_type": "code",
   "execution_count": null,
   "metadata": {
    "vscode": {
     "languageId": "polyglot-notebook"
    }
   },
   "outputs": [],
   "source": [
    "plot5 = functions.plotThreeD(variables, dVect, data)"
   ]
  },
  {
   "cell_type": "code",
   "execution_count": null,
   "metadata": {
    "vscode": {
     "languageId": "polyglot-notebook"
    }
   },
   "outputs": [],
   "source": [
    "syntheticData.plots(variables, dVect, pVect)"
   ]
  },
  {
   "cell_type": "code",
   "execution_count": null,
   "metadata": {
    "vscode": {
     "languageId": "polyglot-notebook"
    }
   },
   "outputs": [],
   "source": [
    "#necassary variables\n",
    "nFineX = variables.nFineX\n",
    "nFineY = variables.nFineY\n",
    "cInduFine = variables.cInduFine\n",
    "cInduInduInv = variables.cInduInduInv\n",
    "fineCoordinates = variables.fineCoordinates\n",
    "trajectories = data.trajectories\n",
    "induCoordinates = variables.induCoordinates \n",
    "\n",
    "#shape for plot\n",
    "shape = (nFineX, nFineY)\n",
    "\n",
    "#take mean of all samples\n",
    "unshapedMap = (cInduFine.T @ (cInduInduInv @ np.mean(dVect, 0)))/100\n",
    "\n",
    "#reshape variables to make plotting easy\n",
    "shapedMap = np.reshape(unshapedMap, shape)\n",
    "shapedX = np.reshape(fineCoordinates[:,0], shape)\n",
    "shapedY = np.reshape(fineCoordinates[:,1], shape)\n",
    "\n",
    "\n",
    "\n",
    "\n",
    "#generate contour plot\n",
    "fig = plt.axes(projection='3d')\n",
    "fig.plot_surface(shapedX/10, shapedY/10, shapedMap, cmap=cm.coolwarm)\n",
    "fig.scatter3D(trajectories[:,0]/10, trajectories[:,1]/10, 0, color = \"green\", alpha = 0.1, label = \"Particle Data\")\n",
    "#fig.scatter3D(induCoordinates[:,0], induCoordinates[:,1], 0, color = \"black\", alpha = 0.5, label = \"Inducing Points\")\n",
    "fig.set_xlabel(r\"X ($\\mu m$)\")\n",
    "fig.set_ylabel(r\"Y ($\\mu m$)\")\n",
    "fig.set_zlabel(r\"Diff. Coefficient ($\\frac{\\mu m^2}{s}$)\")\n",
    "fig.set_title(\"Inferred Diffusion Map\")\n",
    "ticks = np.arange(0, 10/100, 2/100)\n",
    "fig.legend()\n",
    "fig.set_zticks(ticks)\n",
    "norm = matplotlib.colors.Normalize(vmin=np.min(shapedMap), vmax=np.max(shapedMap))\n",
    "m = cm.ScalarMappable(cmap=cm.coolwarm, norm=norm)\n",
    "m.set_array([])\n",
    "plt.colorbar(m, shrink = 0.5, anchor = (0.5, 0.5))"
   ]
  },
  {
   "cell_type": "code",
   "execution_count": null,
   "metadata": {
    "vscode": {
     "languageId": "polyglot-notebook"
    }
   },
   "outputs": [],
   "source": [
    "#necassary variables\n",
    "nFineX = variables.nFineX\n",
    "nFineY = variables.nFineY\n",
    "cInduFine = variables.cInduFine\n",
    "cInduInduInv = variables.cInduInduInv\n",
    "fineCoordinates = variables.fineCoordinates\n",
    "trajectories = data.trajectories\n",
    "\n",
    "#shape for plot\n",
    "shape = (nFineX, nFineY)\n",
    "\n",
    "#take mean of all samples\n",
    "\n",
    "unshapedMap = diffusion(fineCoordinates.T)\n",
    "\n",
    "#reshape variables to make plotting easy\n",
    "shapedMap = np.reshape(unshapedMap, shape)/1000\n",
    "shapedX = np.reshape(fineCoordinates[:,0], shape)\n",
    "shapedY = np.reshape(fineCoordinates[:,1], shape)\n",
    "\n",
    "#generate contour plot\n",
    "fig = plt.axes(projection='3d')\n",
    "fig.plot_surface(shapedX, shapedY, shapedMap, cmap=cm.coolwarm)\n",
    "fig.set_xlabel(r\"X ($\\mu m$)\")\n",
    "fig.set_ylabel(r\"Y ($\\mu m$)\")\n",
    "fig.set_zlabel(r\"Diff. Coefficient ($\\frac{\\mu m^2}{s}$)\")\n",
    "fig.set_title(\"Ground Truth Diffusion Map\")\n",
    "ticks = np.arange(0, 20/1000, 5/1000)\n",
    "fig.set_zticks(ticks)"
   ]
  },
  {
   "cell_type": "code",
   "execution_count": null,
   "metadata": {
    "vscode": {
     "languageId": "polyglot-notebook"
    }
   },
   "outputs": [],
   "source": [
    "from cProfile import label\n",
    "\n",
    "\n",
    "nFineX = variables.nFineX\n",
    "nFineY = variables.nFineY\n",
    "cInduFine = variables.cInduFine\n",
    "cInduInduInv = variables.cInduInduInv\n",
    "fineCoordinates = variables.fineCoordinates\n",
    "trajectories = data.trajectories\n",
    "\n",
    "groundTruth = diffusion(fineCoordinates.T)\n",
    "shape = (nFineX, nFineY)\n",
    "\n",
    "unshapedMap = cInduFine.T @ cInduInduInv @ np.mean(dVect, 0)\n",
    "\n",
    "shapedGroundTruth = np.reshape(groundTruth, shape)\n",
    "shapedMap = np.reshape(unshapedMap, shape)\n",
    "shapedX = np.reshape(fineCoordinates[:,0], shape)\n",
    "shapedY = np.reshape(fineCoordinates[:,1], shape)\n",
    "diff = (np.abs((shapedGroundTruth - shapedMap))/shapedGroundTruth)\n",
    "fig, ax = plt.subplots(1, 1)\n",
    "\n",
    "mapPlot = plt.contour(shapedX, shapedY, diff, colors = 'r', levels = [.05, .1, .2, .4, .6, .8, 1.0])\n",
    "#fig = plt.axes(projection='3d')\n",
    "#fig.plot_surface(shapedX, shapedY, diff, cmap=cm.coolwarm)\n",
    "plt.xlabel(r\"X ($\\mu m$)\")\n",
    "plt.ylabel(r\"Y ($\\mu m$)\")\n",
    "plt.title('Relative Error Through Space')\n",
    "#fig.set_zlabel('Diffusion Coefficient(UNITS)')\n",
    "plt.scatter(trajectories[:,0], trajectories[:,1], color = \"green\", alpha = 0.1, label = \"Particle Data\")\n",
    "plt.legend()\n",
    "plt.clabel(mapPlot, inline=2, fontsize=10)\n",
    "ax.set_aspect(1.0/ax.get_data_ratio(), adjustable='box')"
   ]
  },
  {
   "cell_type": "code",
   "execution_count": null,
   "metadata": {
    "vscode": {
     "languageId": "polyglot-notebook"
    }
   },
   "outputs": [],
   "source": [
    "nFineX = variables.nFineX\n",
    "nFineY = variables.nFineY\n",
    "cInduFine = variables.cInduFine\n",
    "cInduInduInv = variables.cInduInduInv\n",
    "fineCoordinates = variables.fineCoordinates\n",
    "trajectories = data.trajectories\n",
    "\n",
    "#groundTruth = diffusion(fineCoordinates.T)\n",
    "#shape = (nFineX, nFineY)\n",
    "\n",
    "#unshapedMap = cInduFine.T @ (cInduInduInv @ np.mean(dVect, 0))\n",
    "\n",
    "#shapedGroundTruth = np.reshape(groundTruth, shape)\n",
    "#shapedMap = np.reshape(unshapedMap, shape)\n",
    "#shapedX = np.reshape(fineCoordinates[:,0], shape)\n",
    "#shapedY = np.reshape(fineCoordinates[:,1], shape)\n",
    "#diff = (np.abs((shapedGroundTruth - shapedMap))/shapedGroundTruth)\n",
    "fig, ax = plt.subplots(1, 1)\n",
    "\n",
    "plt.xlabel(r\"X ($\\mu m$)\")\n",
    "plt.ylabel(r\"Y ($\\mu m$)\")\n",
    "plt.title('Trajectory Visualization')\n",
    "#fig.set_zlabel('Diffusion Coefficient(UNITS)')\n",
    "#induCoordinates = variables.induCoordinates \n",
    "plt.plot(trajectories[:142,0], trajectories[:142,1], color = \"green\", alpha = 0.5, label = \"Particle Data\")\n",
    "#plt.scatter(induCoordinates[:,0], induCoordinates[:,1], color = \"black\", alpha = 0.5, label = \"Inducing Points\")\n",
    "#plt.clabel(mapPlot, inline=2, fontsize=10)\n",
    "ax.set_aspect(1.0/ax.get_data_ratio(), adjustable='box')\n",
    "plt.legend()"
   ]
  }
 ],
 "metadata": {
  "kernelspec": {
   "display_name": "Python 3.10.8 64-bit (microsoft store)",
   "language": "python",
   "name": "python3"
  },
  "language_info": {
   "codemirror_mode": {
    "name": "ipython",
    "version": 3
   },
   "file_extension": ".py",
   "mimetype": "text/x-python",
   "name": "python",
   "nbconvert_exporter": "python",
   "pygments_lexer": "ipython3",
   "version": "3.10.9 (tags/v3.10.9:1dd9be6, Dec  6 2022, 20:01:21) [MSC v.1934 64 bit (AMD64)]"
  },
  "orig_nbformat": 4,
  "vscode": {
   "interpreter": {
    "hash": "2e75309cd54de03e7dca56c1177813aa1dc913a15df6716ce6684f0fb411f774"
   }
  }
 },
 "nbformat": 4,
 "nbformat_minor": 2
}
