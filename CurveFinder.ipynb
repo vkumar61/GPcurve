{
 "cells": [
  {
   "cell_type": "code",
   "execution_count": 1,
   "metadata": {},
   "outputs": [],
   "source": [
    "#importing useful libraries\n",
    "import numpy as np\n",
    "from scipy import stats\n",
    "import matplotlib.pyplot as plt\n",
    "import math"
   ]
  },
  {
   "cell_type": "code",
   "execution_count": 11,
   "metadata": {},
   "outputs": [
    {
     "name": "stderr",
     "output_type": "stream",
     "text": [
      "<ipython-input-11-1ff528271a6b>:64: RuntimeWarning: covariance is not positive-semidefinite.\n",
      "  samples = np.random.multivariate_normal(mean, covariance, size = nSamples)\n"
     ]
    },
    {
     "data": {
      "text/plain": [
       "<matplotlib.legend.Legend at 0x186db490eb0>"
      ]
     },
     "execution_count": 11,
     "metadata": {},
     "output_type": "execute_result"
    },
    {
     "data": {
      "image/png": "[encoded data removed]",
      "text/plain": [
       "<Figure size 432x288 with 1 Axes>"
      ]
     },
     "metadata": {
      "needs_background": "light"
     },
     "output_type": "display_data"
    }
   ],
   "source": [
    "class curveFinder:\n",
    "    \n",
    "    '''This method creates synthetic data assuming Gaussian noise on a function with form of ...'''\n",
    "    @staticmethod\n",
    "    def dataGenerator(length, var):\n",
    "        \n",
    "        def function(x):\n",
    "\n",
    "            y = (1/500)*(x+20)*x*(x-20)\n",
    "            return y\n",
    "\n",
    "        xground = np.linspace(-15, -1, length)\n",
    "        yground = function(xground)\n",
    "\n",
    "        vmatrix = np.diag(np.full(len(yground), var))\n",
    "        data = np.random.multivariate_normal(mean = yground, cov = vmatrix)\n",
    "        return xground, yground, data\n",
    "\n",
    "    @staticmethod\n",
    "    def matGenerator(nIndPts, xvect, nfine):\n",
    "\n",
    "        def kernal(x, y):\n",
    "\n",
    "            #Define constants for square kernal\n",
    "            lambd = 10\n",
    "            lexp = 1\n",
    "            \n",
    "            #Create empty matrix for covariance\n",
    "            C = np.zeros((len(x), len(y)))\n",
    "            \n",
    "            #loop over all indecies in covariance matrix\n",
    "            for i in range(len(x)):\n",
    "                for j in range(len(y)):\n",
    "                    #Determine each element of covariance matrix\n",
    "                    C[i][j] = (lambd**2)*(math.exp(((-1)*((x[i]-y[j])**2))/(lexp**2)))\n",
    "    \n",
    "            #Return Covariance Matrix\n",
    "            return C\n",
    "\n",
    "        xindPts = np.linspace(-15, -1, nIndPts)\n",
    "        xfine = np.linspace(-15, -1, nfine)\n",
    "        C1 = kernal(xindPts, xvect)\n",
    "        C2 = kernal(xvect, xindPts)\n",
    "        C3 = kernal(xindPts, xindPts)\n",
    "        C4 = kernal(xvect, xvect)\n",
    "        C5 = kernal(xfine, xindPts)\n",
    "\n",
    "        return C1, C2, C3, C4, C5\n",
    "\n",
    "    @staticmethod\n",
    "    def mvMeanCov(C1, C2, C3, C4, data, var):\n",
    "\n",
    "        M = (1/var)*np.dot(np.linalg.inv(C3), np.dot(C1, np.dot(C2, np.linalg.inv(C3))))\n",
    "        b = b = (1/var)*np.dot(np.linalg.inv(C3), np.dot(C1, data))\n",
    "\n",
    "        mean = np.dot(np.linalg.inv(np.linalg.inv(C3) + M), b)\n",
    "        covariance = np.linalg.inv(np.linalg.inv(C3) + M)\n",
    "\n",
    "        return mean, covariance\n",
    "\n",
    "    @staticmethod\n",
    "    def sampler(mean, covariance, nSamples):\n",
    "\n",
    "        samples = np.random.multivariate_normal(mean, covariance, size = nSamples)\n",
    "\n",
    "        return samples\n",
    "\n",
    "    @staticmethod\n",
    "    def MAP(samples):\n",
    "\n",
    "        return np.mean(samples, axis = 0)\n",
    "\n",
    "    @staticmethod\n",
    "    def fineGrid(map, Cind, Cfine):\n",
    "        \n",
    "        fineMAP = np.dot(Cfine, np.dot(np.linalg.inv(Cind), map))\n",
    "\n",
    "        return fineMAP\n",
    "\n",
    "\n",
    "\n",
    "\n",
    "\n",
    "var = 1\n",
    "nData = 1000\n",
    "nInd = 50\n",
    "nsamples = 100\n",
    "nfine = 500\n",
    "x, yground, data = curveFinder.dataGenerator(nData, var)\n",
    "\n",
    "\n",
    "\n",
    "C1, C2, C3, C4, C5 = curveFinder.matGenerator(nInd, x, nfine)\n",
    "\n",
    "mutilda, ctilda = curveFinder.mvMeanCov(C1, C2, C3, C4, data, var)\n",
    "\n",
    "samples = curveFinder.sampler(mutilda, ctilda, nsamples)\n",
    "map = curveFinder.MAP(samples)\n",
    "fineMAP = curveFinder.fineGrid(map, C3, C5)\n",
    "\n",
    "plt.plot(x, data, label = \"Data\")\n",
    "plt.plot(x, yground, label = \"Ground\")\n",
    "#plt.plot(np.linspace(-15, -1, nInd), map)\n",
    "plt.plot(np.linspace(-15, -1, nfine), fineMAP, label = \"MAP\")\n",
    "plt.legend()"
   ]
  },
  {
   "cell_type": "code",
   "execution_count": 25,
   "metadata": {},
   "outputs": [
    {
     "data": {
      "text/plain": [
       "array([[ 1.60588955e-01, -8.02878608e-03, -1.08867174e-02, ...,\n",
       "        -8.34954548e-06, -3.96082712e-06, -2.29322462e-06],\n",
       "       [-8.02406717e-03,  3.73195613e-02,  1.38811959e-02, ...,\n",
       "        -1.54907099e-06, -7.70381901e-07, -4.61339936e-07],\n",
       "       [-1.08756319e-02,  1.38813305e-02,  3.00978745e-02, ...,\n",
       "         7.95045982e-07,  4.21002764e-07,  2.22102505e-07],\n",
       "       ...,\n",
       "       [-7.33226672e-09,  1.60303530e-08, -2.29261412e-08, ...,\n",
       "         3.00982308e-02,  1.38818046e-02, -1.08752884e-02],\n",
       "       [-2.82312154e-08, -9.12612959e-09,  1.81745771e-08, ...,\n",
       "         1.38818614e-02,  3.73194769e-02, -8.02428734e-03],\n",
       "       [-1.96292145e-07, -2.89872062e-08, -9.43571121e-09, ...,\n",
       "        -1.08753334e-02, -8.02432890e-03,  1.60590362e-01]])"
      ]
     },
     "execution_count": 25,
     "metadata": {},
     "output_type": "execute_result"
    }
   ],
   "source": []
  }
 ],
 "metadata": {
  "interpreter": {
   "hash": "f08154012ddadd8e950e6e9e035c7a7b32c136e7647e9b7c77e02eb723a8bedb"
  },
  "kernelspec": {
   "display_name": "Python 3.8.8 ('base')",
   "language": "python",
   "name": "python3"
  },
  "language_info": {
   "codemirror_mode": {
    "name": "ipython",
    "version": 3
   },
   "file_extension": ".py",
   "mimetype": "text/x-python",
   "name": "python",
   "nbconvert_exporter": "python",
   "pygments_lexer": "ipython3",
   "version": "3.8.8"
  },
  "orig_nbformat": 4
 },
 "nbformat": 4,
 "nbformat_minor": 2
}
