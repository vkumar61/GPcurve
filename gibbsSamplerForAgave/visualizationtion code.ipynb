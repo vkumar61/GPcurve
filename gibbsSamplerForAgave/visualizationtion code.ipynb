{
 "cells": [
  {
   "cell_type": "code",
   "execution_count": 4,
   "metadata": {
    "dotnet_interactive": {
     "language": "csharp"
    },
    "polyglot_notebook": {
     "kernelName": "csharp"
    }
   },
   "outputs": [],
   "source": [
    "import csv\n",
    "import numpy as np\n",
    "import matplotlib.pyplot as plt\n",
    "import functions\n",
    "import objects\n",
    "from types import SimpleNamespace\n",
    "#import syntheticData\n",
    "from matplotlib import cm\n",
    "import ast\n",
    "import pickle\n",
    "import matplotlib\n",
    "import h5py"
   ]
  },
  {
   "cell_type": "code",
   "execution_count": null,
   "metadata": {},
   "outputs": [],
   "source": [
    "'''\n",
    "def diffusion(point):\n",
    "    xterm1 = np.exp(-((point[0]-10)**2)/500)\n",
    "    yterm1 = np.exp(-((point[1]-10)**2)/500)\n",
    "    xterm2 = np.exp(-((point[0]+19)**2)/200)\n",
    "    yterm2 = np.exp(-((point[1]+19)**2)/200)\n",
    "    value = np.abs(3 + 17.5*xterm1*yterm1 + 8*xterm2*yterm2)\n",
    "    return value'''"
   ]
  },
  {
   "cell_type": "code",
   "execution_count": 3,
   "metadata": {},
   "outputs": [
    {
     "data": {
      "text/plain": [
       "26004.628142742567"
      ]
     },
     "execution_count": 3,
     "metadata": {},
     "output_type": "execute_result"
    }
   ],
   "source": [
    "file = open(\"C:/Users/vkuma/Research/LearningDiffusionMaps/1000 1 963.34095variables.pkl\", \"rb\")\n",
    "variables = pickle.load(file)\n",
    "file = open(\"C:/Users/vkuma/Research/LearningDiffusionMaps/1000 1 963.34095data.pkl\", \"rb\")\n",
    "data = pickle.load(file)\n",
    "variables.dInduPrior"
   ]
  },
  {
   "cell_type": "code",
   "execution_count": null,
   "metadata": {},
   "outputs": [],
   "source": [
    "'''\n",
    "#read datafile\n",
    "file = open(\"C:/Users/vkuma/Research/LearningDiffusionMaps/LargeDatasets/syntheticData/test2/syntheticData.csv\")\n",
    "fullArray = np.loadtxt(file,delimiter = \",\")\n",
    "\n",
    "#coordinates for trajectories\n",
    "x = fullArray[:,1]\n",
    "y = fullArray[:,2]\n",
    "# Initialize variables\n",
    "data = SimpleNamespace(**objects.DATA)\n",
    "data.trajectoriesIndex = fullArray[:,0]\n",
    "data.trajectories = np.vstack((x,y)).T\n",
    "data.deltaT = 1\n",
    "data.nData = len(data.trajectoriesIndex)\n",
    "data.nTrajectories = np.unique(data.trajectoriesIndex)\n",
    "\n",
    "variables = functions.initialization(objects.PARAMETERS, data, 1, 10)\n",
    "pVect = []\n",
    "with open('C:/Users/vkuma/Research/LearningDiffusionMaps/LargeDatasets/syntheticData/test2/300000probability(1 10).csv') as file_obj:\n",
    "      \n",
    "    # Create reader object by passing the file \n",
    "    # object to reader method\n",
    "    reader_obj = csv.reader(file_obj)\n",
    "      \n",
    "    # Iterate over each row in the csv \n",
    "    # file using reader object\n",
    "    for row in reader_obj:\n",
    "        pVect.append(float(row[0]))\n",
    "\n",
    "file = open('C:/Users/vkuma/Research/LearningDiffusionMaps/LargeDatasets/syntheticData/test2/300000samples(1 10).csv')\n",
    "dVect = np.loadtxt(file,delimiter = \",\")\n",
    "'''"
   ]
  },
  {
   "cell_type": "code",
   "execution_count": 7,
   "metadata": {},
   "outputs": [],
   "source": [
    "file = \"C:/Users/vkuma/Research/LearningDiffusionMaps/1000(1 963.34095).h5\"\n",
    "f = h5py.File(file, 'r')\n",
    "dVect= f['samples'][()]\n",
    "pVect = f['prob'][()]"
   ]
  },
  {
   "cell_type": "code",
   "execution_count": 8,
   "metadata": {},
   "outputs": [
    {
     "ename": "AttributeError",
     "evalue": "'numpy.ndarray' object has no attribute 'index'",
     "output_type": "error",
     "traceback": [
      "\u001b[1;31m---------------------------------------------------------------------------\u001b[0m",
      "\u001b[1;31mAttributeError\u001b[0m                            Traceback (most recent call last)",
      "\u001b[1;32mc:\\Users\\vkuma\\Research\\LearningDiffusionMaps\\GPcurve\\gibbsSamplerForAgave\\visualizationtion code.ipynb Cell 6\u001b[0m in \u001b[0;36m2\n\u001b[0;32m      <a href='vscode-notebook-cell:/c%3A/Users/vkuma/Research/LearningDiffusionMaps/GPcurve/gibbsSamplerForAgave/visualizationtion%20code.ipynb#W5sZmlsZQ%3D%3D?line=0'>1</a>\u001b[0m \u001b[39m#plot6 = syntheticData.plotThreeD(variables, dVect, data)\u001b[39;00m\n\u001b[1;32m----> <a href='vscode-notebook-cell:/c%3A/Users/vkuma/Research/LearningDiffusionMaps/GPcurve/gibbsSamplerForAgave/visualizationtion%20code.ipynb#W5sZmlsZQ%3D%3D?line=1'>2</a>\u001b[0m plot1 \u001b[39m=\u001b[39m functions\u001b[39m.\u001b[39;49mplots(variables, dVect, pVect, data)\n\u001b[0;32m      <a href='vscode-notebook-cell:/c%3A/Users/vkuma/Research/LearningDiffusionMaps/GPcurve/gibbsSamplerForAgave/visualizationtion%20code.ipynb#W5sZmlsZQ%3D%3D?line=2'>3</a>\u001b[0m plot2 \u001b[39m=\u001b[39m functions\u001b[39m.\u001b[39mprobPlot(pVect)\n\u001b[0;32m      <a href='vscode-notebook-cell:/c%3A/Users/vkuma/Research/LearningDiffusionMaps/GPcurve/gibbsSamplerForAgave/visualizationtion%20code.ipynb#W5sZmlsZQ%3D%3D?line=3'>4</a>\u001b[0m plot4 \u001b[39m=\u001b[39m functions\u001b[39m.\u001b[39mmeanPlot(variables, dVect, data)\n",
      "File \u001b[1;32mc:\\Users\\vkuma\\Research\\LearningDiffusionMaps\\GPcurve\\gibbsSamplerForAgave\\functions.py:335\u001b[0m, in \u001b[0;36mplots\u001b[1;34m(variables, dVect, pVect, data)\u001b[0m\n\u001b[0;32m    332\u001b[0m shape \u001b[39m=\u001b[39m (nFineX, nFineY)\n\u001b[0;32m    334\u001b[0m \u001b[39m#sample with maximum probability\u001b[39;00m\n\u001b[1;32m--> 335\u001b[0m unshapedMap \u001b[39m=\u001b[39m cInduFine\u001b[39m.\u001b[39mT \u001b[39m@\u001b[39m (cInduInduInv \u001b[39m@\u001b[39m dVect[pVect\u001b[39m.\u001b[39;49mindex(\u001b[39mmax\u001b[39m(pVect))])\n\u001b[0;32m    337\u001b[0m \u001b[39m#reshape variables to make plotting easy\u001b[39;00m\n\u001b[0;32m    338\u001b[0m shapedMap \u001b[39m=\u001b[39m np\u001b[39m.\u001b[39mreshape(unshapedMap, shape)\n",
      "\u001b[1;31mAttributeError\u001b[0m: 'numpy.ndarray' object has no attribute 'index'"
     ]
    }
   ],
   "source": [
    "#plot6 = syntheticData.plotThreeD(variables, dVect, data)\n",
    "plot1 = functions.plots(variables, dVect, pVect, data)\n",
    "plot2 = functions.probPlot(pVect)\n",
    "plot4 = functions.meanPlot(variables, dVect, data)\n"
   ]
  },
  {
   "cell_type": "code",
   "execution_count": 9,
   "metadata": {},
   "outputs": [
    {
     "data": {
      "image/png": "[encoded data removed]",
      "text/plain": [
       "<Figure size 640x480 with 1 Axes>"
      ]
     },
     "metadata": {},
     "output_type": "display_data"
    }
   ],
   "source": [
    "#generate plot\n",
    "fig, ax = plt.subplots(1, 1)\n",
    "plt.plot(pVect)\n",
    "plt.title(\"Probability per Sample\")\n",
    "plt.xlabel(\"Iteration/Sample\")\n",
    "plt.ylabel(\"Log Probability\")\n",
    "plt.ticklabel_format(useMathText=True)\n",
    "from matplotlib import ticker\n",
    "formatter = ticker.ScalarFormatter(useMathText=True)\n",
    "formatter.set_scientific(True) \n",
    "formatter.set_powerlimits((-1,1)) \n",
    "ax.yaxis.set_major_formatter(formatter)\n",
    "class ScalarFormatterClass(ticker.ScalarFormatter):\n",
    "   def _set_format(self):\n",
    "      self.format = \"%1.3f\"\n",
    "yScalarFormatter = ScalarFormatterClass(useMathText=True)\n",
    "yScalarFormatter.set_powerlimits((0,0))\n",
    "ax.yaxis.set_major_formatter(yScalarFormatter)\n",
    "ax.set_aspect(1.0/ax.get_data_ratio(), adjustable='box')"
   ]
  },
  {
   "cell_type": "code",
   "execution_count": null,
   "metadata": {},
   "outputs": [],
   "source": [
    "from matplotlib import ticker"
   ]
  },
  {
   "cell_type": "code",
   "execution_count": null,
   "metadata": {},
   "outputs": [],
   "source": [
    "#necassary variables\n",
    "nFineX = variables.nFineX\n",
    "nFineY = variables.nFineY\n",
    "cInduFine = variables.cInduFine\n",
    "cInduInduInv = variables.cInduInduInv\n",
    "fineCoordinates = variables.fineCoordinates\n",
    "trajectories = data.trajectories\n",
    "\n",
    "#shape for plot\n",
    "shape = (nFineX, nFineY)\n",
    "\n",
    "#take mean of all samples\n",
    "unshapedMap = cInduFine.T @ cInduInduInv @ np.mean(dVect, 0)\n",
    "\n",
    "#reshape variables to make plotting easy\n",
    "shapedMap = np.reshape(unshapedMap, shape)\n",
    "shapedX = np.reshape(fineCoordinates[:,0], shape)\n",
    "shapedY = np.reshape(fineCoordinates[:,1], shape)\n",
    "\n",
    "#generate contour plot\n",
    "fig = plt.figure()\n",
    "mapPlot = plt.contour(shapedX, shapedY, shapedMap, levels = [0, 1,2,3,4,5,6,7,8,9,10], cmap = cm.autumn)\n",
    "plt.clabel(mapPlot, inline=1, fontsize=10)\n",
    "plt.scatter(trajectories[:,0], trajectories[:,1], alpha = 0.01, c = \"black\")"
   ]
  },
  {
   "cell_type": "code",
   "execution_count": null,
   "metadata": {},
   "outputs": [],
   "source": [
    "#necassary variables\n",
    "nFineX = variables.nFineX\n",
    "nFineY = variables.nFineY\n",
    "cInduFine = variables.cInduFine\n",
    "cInduInduInv = variables.cInduInduInv\n",
    "fineCoordinates = variables.fineCoordinates\n",
    "trajectories = data.trajectories\n",
    "\n",
    "#shape for plot\n",
    "shape = (nFineX, nFineY)\n",
    "\n",
    "#take mean of all samples\n",
    "unshapedMap = diffusion(fineCoordinates.T)\n",
    "\n",
    "#reshape variables to make plotting easy\n",
    "shapedMap = np.reshape(unshapedMap, shape)\n",
    "shapedX = np.reshape(fineCoordinates[:,0], shape)\n",
    "shapedY = np.reshape(fineCoordinates[:,1], shape)\n",
    "\n",
    "#generate contour plot\n",
    "fig = plt.figure()\n",
    "mapPlot = plt.contour(shapedX, shapedY, shapedMap, levels = 15, cmap = cm.autumn)\n",
    "plt.clabel(mapPlot, inline=1, fontsize=10)\n",
    "plt.scatter(trajectories[:,0], trajectories[:,1], alpha = 0.01, c = \"black\")"
   ]
  },
  {
   "cell_type": "code",
   "execution_count": null,
   "metadata": {},
   "outputs": [],
   "source": [
    "plot5 = functions.plotThreeD(variables, dVect, data)"
   ]
  },
  {
   "cell_type": "code",
   "execution_count": null,
   "metadata": {},
   "outputs": [],
   "source": [
    "syntheticData.plots(variables, dVect, pVect)"
   ]
  },
  {
   "cell_type": "code",
   "execution_count": null,
   "metadata": {},
   "outputs": [],
   "source": [
    "#necassary variables\n",
    "nFineX = variables.nFineX\n",
    "nFineY = variables.nFineY\n",
    "cInduFine = variables.cInduFine\n",
    "cInduInduInv = variables.cInduInduInv\n",
    "fineCoordinates = variables.fineCoordinates\n",
    "trajectories = data.trajectories\n",
    "induCoordinates = variables.induCoordinates \n",
    "\n",
    "#shape for plot\n",
    "shape = (nFineX, nFineY)\n",
    "\n",
    "#take mean of all samples\n",
    "unshapedMap = (cInduFine.T @ (cInduInduInv @ np.mean(dVect, 0)))/100\n",
    "\n",
    "#reshape variables to make plotting easy\n",
    "shapedMap = np.reshape(unshapedMap, shape)\n",
    "shapedX = np.reshape(fineCoordinates[:,0], shape)\n",
    "shapedY = np.reshape(fineCoordinates[:,1], shape)\n",
    "\n",
    "\n",
    "\n",
    "\n",
    "#generate contour plot\n",
    "fig = plt.axes(projection='3d')\n",
    "fig.plot_surface(shapedX/10, shapedY/10, shapedMap, cmap=cm.coolwarm)\n",
    "fig.scatter3D(trajectories[:,0]/10, trajectories[:,1]/10, 0, color = \"green\", alpha = 0.1, label = \"Particle Data\")\n",
    "#fig.scatter3D(induCoordinates[:,0], induCoordinates[:,1], 0, color = \"black\", alpha = 0.5, label = \"Inducing Points\")\n",
    "fig.set_xlabel(r\"X ($\\mu m$)\")\n",
    "fig.set_ylabel(r\"Y ($\\mu m$)\")\n",
    "fig.set_zlabel(r\"Diff. Coefficient ($\\frac{\\mu m^2}{s}$)\")\n",
    "fig.set_title(\"Inferred Diffusion Map\")\n",
    "ticks = np.arange(0, 10/100, 2/100)\n",
    "fig.legend()\n",
    "fig.set_zticks(ticks)\n",
    "norm = matplotlib.colors.Normalize(vmin=np.min(shapedMap), vmax=np.max(shapedMap))\n",
    "m = cm.ScalarMappable(cmap=cm.coolwarm, norm=norm)\n",
    "m.set_array([])\n",
    "plt.colorbar(m, shrink = 0.5, anchor = (0.5, 0.5))"
   ]
  },
  {
   "cell_type": "code",
   "execution_count": null,
   "metadata": {},
   "outputs": [],
   "source": [
    "#necassary variables\n",
    "nFineX = variables.nFineX\n",
    "nFineY = variables.nFineY\n",
    "cInduFine = variables.cInduFine\n",
    "cInduInduInv = variables.cInduInduInv\n",
    "fineCoordinates = variables.fineCoordinates\n",
    "trajectories = data.trajectories\n",
    "\n",
    "#shape for plot\n",
    "shape = (nFineX, nFineY)\n",
    "\n",
    "#take mean of all samples\n",
    "\n",
    "unshapedMap = diffusion(fineCoordinates.T)\n",
    "\n",
    "#reshape variables to make plotting easy\n",
    "shapedMap = np.reshape(unshapedMap, shape)/1000\n",
    "shapedX = np.reshape(fineCoordinates[:,0], shape)\n",
    "shapedY = np.reshape(fineCoordinates[:,1], shape)\n",
    "\n",
    "#generate contour plot\n",
    "fig = plt.axes(projection='3d')\n",
    "fig.plot_surface(shapedX, shapedY, shapedMap, cmap=cm.coolwarm)\n",
    "fig.set_xlabel(r\"X ($\\mu m$)\")\n",
    "fig.set_ylabel(r\"Y ($\\mu m$)\")\n",
    "fig.set_zlabel(r\"Diff. Coefficient ($\\frac{\\mu m^2}{s}$)\")\n",
    "fig.set_title(\"Ground Truth Diffusion Map\")\n",
    "ticks = np.arange(0, 20/1000, 5/1000)\n",
    "fig.set_zticks(ticks)"
   ]
  },
  {
   "cell_type": "code",
   "execution_count": null,
   "metadata": {},
   "outputs": [],
   "source": [
    "from cProfile import label\n",
    "\n",
    "\n",
    "nFineX = variables.nFineX\n",
    "nFineY = variables.nFineY\n",
    "cInduFine = variables.cInduFine\n",
    "cInduInduInv = variables.cInduInduInv\n",
    "fineCoordinates = variables.fineCoordinates\n",
    "trajectories = data.trajectories\n",
    "\n",
    "groundTruth = diffusion(fineCoordinates.T)\n",
    "shape = (nFineX, nFineY)\n",
    "\n",
    "unshapedMap = cInduFine.T @ cInduInduInv @ np.mean(dVect, 0)\n",
    "\n",
    "shapedGroundTruth = np.reshape(groundTruth, shape)\n",
    "shapedMap = np.reshape(unshapedMap, shape)\n",
    "shapedX = np.reshape(fineCoordinates[:,0], shape)\n",
    "shapedY = np.reshape(fineCoordinates[:,1], shape)\n",
    "diff = (np.abs((shapedGroundTruth - shapedMap))/shapedGroundTruth)\n",
    "fig, ax = plt.subplots(1, 1)\n",
    "\n",
    "mapPlot = plt.contour(shapedX, shapedY, diff, colors = 'r', levels = [.05, .1, .2, .4, .6, .8, 1.0])\n",
    "#fig = plt.axes(projection='3d')\n",
    "#fig.plot_surface(shapedX, shapedY, diff, cmap=cm.coolwarm)\n",
    "plt.xlabel(r\"X ($\\mu m$)\")\n",
    "plt.ylabel(r\"Y ($\\mu m$)\")\n",
    "plt.title('Relative Error Through Space')\n",
    "#fig.set_zlabel('Diffusion Coefficient(UNITS)')\n",
    "plt.scatter(trajectories[:,0], trajectories[:,1], color = \"green\", alpha = 0.1, label = \"Particle Data\")\n",
    "plt.legend()\n",
    "plt.clabel(mapPlot, inline=2, fontsize=10)\n",
    "ax.set_aspect(1.0/ax.get_data_ratio(), adjustable='box')"
   ]
  },
  {
   "cell_type": "code",
   "execution_count": null,
   "metadata": {},
   "outputs": [],
   "source": [
    "nFineX = variables.nFineX\n",
    "nFineY = variables.nFineY\n",
    "cInduFine = variables.cInduFine\n",
    "cInduInduInv = variables.cInduInduInv\n",
    "fineCoordinates = variables.fineCoordinates\n",
    "trajectories = data.trajectories\n",
    "\n",
    "#groundTruth = diffusion(fineCoordinates.T)\n",
    "#shape = (nFineX, nFineY)\n",
    "\n",
    "#unshapedMap = cInduFine.T @ (cInduInduInv @ np.mean(dVect, 0))\n",
    "\n",
    "#shapedGroundTruth = np.reshape(groundTruth, shape)\n",
    "#shapedMap = np.reshape(unshapedMap, shape)\n",
    "#shapedX = np.reshape(fineCoordinates[:,0], shape)\n",
    "#shapedY = np.reshape(fineCoordinates[:,1], shape)\n",
    "#diff = (np.abs((shapedGroundTruth - shapedMap))/shapedGroundTruth)\n",
    "fig, ax = plt.subplots(1, 1)\n",
    "\n",
    "plt.xlabel(r\"X ($\\mu m$)\")\n",
    "plt.ylabel(r\"Y ($\\mu m$)\")\n",
    "plt.title('Trajectory Visualization')\n",
    "#fig.set_zlabel('Diffusion Coefficient(UNITS)')\n",
    "#induCoordinates = variables.induCoordinates \n",
    "plt.plot(trajectories[:142,0], trajectories[:142,1], color = \"green\", alpha = 0.5, label = \"Particle Data\")\n",
    "#plt.scatter(induCoordinates[:,0], induCoordinates[:,1], color = \"black\", alpha = 0.5, label = \"Inducing Points\")\n",
    "#plt.clabel(mapPlot, inline=2, fontsize=10)\n",
    "ax.set_aspect(1.0/ax.get_data_ratio(), adjustable='box')\n",
    "plt.legend()"
   ]
  }
 ],
 "metadata": {
  "kernelspec": {
   "display_name": "Python 3.10.8 64-bit (microsoft store)",
   "language": "python",
   "name": "python3"
  },
  "language_info": {
   "codemirror_mode": {
    "name": "ipython",
    "version": 3
   },
   "file_extension": ".py",
   "mimetype": "text/x-python",
   "name": "python",
   "nbconvert_exporter": "python",
   "pygments_lexer": "ipython3",
   "version": "3.10.11"
  },
  "orig_nbformat": 4,
  "vscode": {
   "interpreter": {
    "hash": "2e75309cd54de03e7dca56c1177813aa1dc913a15df6716ce6684f0fb411f774"
   }
  }
 },
 "nbformat": 4,
 "nbformat_minor": 2
}
