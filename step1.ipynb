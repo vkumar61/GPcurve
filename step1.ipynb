{
 "cells": [
  {
   "cell_type": "code",
   "execution_count": 1,
   "metadata": {},
   "outputs": [],
   "source": [
    "import numpy as np\n",
    "from scipy import stats\n",
    "import matplotlib.pyplot as plt"
   ]
  },
  {
   "cell_type": "code",
   "execution_count": 2,
   "metadata": {},
   "outputs": [],
   "source": [
    "mean = [0, 0]\n",
    "dObserved = 5\n",
    "deltaT = 1\n",
    "sd = np.sqrt(2*dObserved*deltaT)\n",
    "diffusedPoints = np.random.normal(mean, sd, (200,2))"
   ]
  },
  {
   "cell_type": "code",
   "execution_count": 3,
   "metadata": {},
   "outputs": [
    {
     "name": "stderr",
     "output_type": "stream",
     "text": [
      "<ipython-input-3-7842edb046e5>:17: RuntimeWarning: invalid value encountered in sqrt\n",
      "  lhood = np.sum(stats.norm.logpdf(diffusedPoints, loc = [0,0], scale = np.sqrt(2*diffusion*1)))\n"
     ]
    }
   ],
   "source": [
    "#Proposal\n",
    "dOld = 10\n",
    "dNew = np.random.normal(10, 10)\n",
    "dVect = np.zeros(10000)\n",
    "pVect = np.zeros(10000)\n",
    "\n",
    "for i in range(10000):\n",
    "\n",
    "        dNew = np.random.normal(10, 10)\n",
    "\n",
    "        def probability(diffusion):\n",
    "\n",
    "                # Prior\n",
    "                prior = np.sum(stats.norm.logpdf(diffusedPoints))\n",
    "\n",
    "                #liklihood\n",
    "                lhood = np.sum(stats.norm.logpdf(diffusedPoints, loc = [0,0], scale = np.sqrt(2*diffusion*1)))\n",
    "\n",
    "                prob = lhood + prior\n",
    "\n",
    "                return prob, lhood\n",
    "\n",
    "        pNew, lhoodNew = probability(dNew)\n",
    "        pOld, lhoodOld = probability(dOld)\n",
    "        \n",
    "        #Acceptance value\n",
    "        acc_prob = pNew - pOld\n",
    "\n",
    "        if np.log(np.random.rand()) < acc_prob:\n",
    "                dOld = dNew\n",
    "                lhoodOld = lhoodNew\n",
    "        dVect[i] = dOld\n",
    "        pVect[i] = lhoodOld\n"
   ]
  },
  {
   "cell_type": "code",
   "execution_count": 8,
   "metadata": {},
   "outputs": [
    {
     "data": {
      "text/plain": [
       "[<matplotlib.lines.Line2D at 0x2ec1705fe50>]"
      ]
     },
     "execution_count": 8,
     "metadata": {},
     "output_type": "execute_result"
    },
    {
     "data": {
      "image/png": "[encoded data removed]",
      "text/plain": [
       "<Figure size 432x288 with 1 Axes>"
      ]
     },
     "metadata": {
      "needs_background": "light"
     },
     "output_type": "display_data"
    }
   ],
   "source": [
    "plt.plot(dVect)"
   ]
  }
 ],
 "metadata": {
  "kernelspec": {
   "display_name": "Python 3.8.8 ('base')",
   "language": "python",
   "name": "python3"
  },
  "language_info": {
   "codemirror_mode": {
    "name": "ipython",
    "version": 3
   },
   "file_extension": ".py",
   "mimetype": "text/x-python",
   "name": "python",
   "nbconvert_exporter": "python",
   "pygments_lexer": "ipython3",
   "version": "3.8.8"
  },
  "orig_nbformat": 4,
  "vscode": {
   "interpreter": {
    "hash": "f08154012ddadd8e950e6e9e035c7a7b32c136e7647e9b7c77e02eb723a8bedb"
   }
  }
 },
 "nbformat": 4,
 "nbformat_minor": 2
}
